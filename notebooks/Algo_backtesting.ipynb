{
 "cells": [
  {
   "cell_type": "markdown",
   "metadata": {
    "colab_type": "text",
    "id": "GE_lHyWkcc7E"
   },
   "source": [
    "# IMPORT MODULES"
   ]
  },
  {
   "cell_type": "code",
   "execution_count": null,
   "metadata": {
    "colab": {},
    "colab_type": "code",
    "id": "PG6sUvRrcZYA"
   },
   "outputs": [],
   "source": [
    "import pandas as pd\n",
    "import numpy as np\n",
    "import pandas_datareader.data as pdr\n",
    "from datetime import datetime\n",
    "import matplotlib.pyplot as plt\n",
    "plt.style.use('seaborn')\n",
    "import requests\n",
    "import json"
   ]
  },
  {
   "cell_type": "markdown",
   "metadata": {
    "colab_type": "text",
    "id": "mkmAVZoecp1k"
   },
   "source": [
    "# PROCESS TRADING DATA"
   ]
  },
  {
   "cell_type": "code",
   "execution_count": null,
   "metadata": {
    "colab": {
     "base_uri": "https://localhost:8080/",
     "height": 204
    },
    "colab_type": "code",
    "id": "SrjMfZVHcaxn",
    "outputId": "e134cded-104a-4b7d-d1b4-da15500a2a07"
   },
   "outputs": [],
   "source": [
    "response = requests.get(\"https://www.alphavantage.co/query?function=TIME_SERIES_DAILY&symbol=MSFT&apikey=demo\")\n",
    "alphadict = json.loads(response.text)\n",
    "stock = pd.DataFrame(alphadict['Time Series (Daily)']).T\n",
    "stock.index = pd.to_datetime(stock.index)\n",
    "stock.columns = ['open', 'high', 'low', 'close', 'volume']\n",
    "stock = stock.astype(float)\n",
    "stock = stock.sort_index(ascending = True)\n",
    "stock.head()"
   ]
  },
  {
   "cell_type": "markdown",
   "metadata": {
    "colab_type": "text",
    "id": "IEHWSvBzc_yz"
   },
   "source": [
    "# GENERATE TRADING SIGNAL"
   ]
  },
  {
   "cell_type": "code",
   "execution_count": null,
   "metadata": {
    "colab": {
     "base_uri": "https://localhost:8080/",
     "height": 332
    },
    "colab_type": "code",
    "id": "j3hm835Sca8n",
    "outputId": "3841f139-2218-4690-d25b-1031e4588c50"
   },
   "outputs": [],
   "source": [
    "stock['SMA10'] = stock['close'].rolling(10).mean()\n",
    "stock['SMA20'] = stock['close'].rolling(20).mean()\n",
    "stock.dropna(inplace=True)\n",
    "stock[['close','SMA10', 'SMA20']].plot(figsize=(20,5), grid = True, title='The 10 and 20 day simple moving averages of Microsoft'), plt.show();"
   ]
  },
  {
   "cell_type": "markdown",
   "metadata": {
    "colab_type": "text",
    "id": "i5v1tRfjdLyQ"
   },
   "source": [
    "# VECTORIZED BACKTESTING"
   ]
  },
  {
   "cell_type": "code",
   "execution_count": null,
   "metadata": {
    "colab": {
     "base_uri": "https://localhost:8080/",
     "height": 204
    },
    "colab_type": "code",
    "id": "Dfr6Pz4PcbEu",
    "outputId": "460f8584-a86b-4849-93ba-d21d0a844bc7"
   },
   "outputs": [],
   "source": [
    "stock['position'] = np.where(stock['SMA10'] > stock['SMA20'], 1, -1)\n",
    "stock['returns'] = np.log(stock['close']/stock['close'].shift(1))\n",
    "stock['strategy'] = stock['position'].shift(1) * stock['returns']\n",
    "stock.dropna(inplace=True)\n",
    "stock.head()"
   ]
  },
  {
   "cell_type": "markdown",
   "metadata": {
    "colab_type": "text",
    "id": "XxPJGPySdlth"
   },
   "source": [
    "# EVALUATE PERFORMANCE"
   ]
  },
  {
   "cell_type": "code",
   "execution_count": null,
   "metadata": {
    "colab": {
     "base_uri": "https://localhost:8080/",
     "height": 332
    },
    "colab_type": "code",
    "id": "IfVC8X7tjJ_O",
    "outputId": "e3954a6f-af5d-4b3a-d8b5-5d8a710a73d2"
   },
   "outputs": [],
   "source": [
    "stock[['returns', 'strategy']].plot(figsize=(20,5), grid = True, title='Dual cross-over strategy versus long only MSFT returns'), plt.show();"
   ]
  },
  {
   "cell_type": "code",
   "execution_count": null,
   "metadata": {
    "colab": {
     "base_uri": "https://localhost:8080/",
     "height": 68
    },
    "colab_type": "code",
    "id": "NkFs5nKFcbHl",
    "outputId": "c9b27f94-9b04-43c6-8f0d-d9f078935545"
   },
   "outputs": [],
   "source": [
    "np.exp(stock[['returns', 'strategy']].sum())"
   ]
  },
  {
   "cell_type": "code",
   "execution_count": null,
   "metadata": {
    "colab": {
     "base_uri": "https://localhost:8080/",
     "height": 297
    },
    "colab_type": "code",
    "id": "vRz0Y9HlcbLI",
    "outputId": "f4bc3af1-4d78-420c-8b15-91ae6c61a6f8"
   },
   "outputs": [],
   "source": [
    "np.exp(stock['returns'])\n",
    "stock[['returns', 'strategy']].describe()\n"
   ]
  }
 ],
 "metadata": {
  "colab": {
   "name": "Algo-backtesting.ipynb",
   "provenance": [],
   "version": "0.3.2"
  },
  "kernelspec": {
   "display_name": "Python 3",
   "language": "python",
   "name": "python3"
  },
  "language_info": {
   "codemirror_mode": {
    "name": "ipython",
    "version": 3
   },
   "file_extension": ".py",
   "mimetype": "text/x-python",
   "name": "python",
   "nbconvert_exporter": "python",
   "pygments_lexer": "ipython3",
   "version": "3.7.3"
  }
 },
 "nbformat": 4,
 "nbformat_minor": 1
}
