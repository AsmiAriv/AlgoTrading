{
 "cells": [
  {
   "cell_type": "markdown",
   "metadata": {
    "colab_type": "text",
    "id": "j3X2ZbQxrMgb"
   },
   "source": [
    "# IMPORT MODULES"
   ]
  },
  {
   "cell_type": "code",
   "execution_count": null,
   "metadata": {
    "colab": {},
    "colab_type": "code",
    "id": "9E3dIkiWx5vy"
   },
   "outputs": [],
   "source": [
    "import pandas as pd\n",
    "import pandas_datareader.data as pdr\n",
    "from datetime import datetime\n",
    "import matplotlib.pyplot as plt\n",
    "plt.style.use('seaborn')\n",
    "import requests\n",
    "import json"
   ]
  },
  {
   "cell_type": "markdown",
   "metadata": {
    "colab_type": "text",
    "id": "RZadV2E1mGdp"
   },
   "source": [
    "# SOME ISSUES WITH IMPORTING DATA"
   ]
  },
  {
   "cell_type": "code",
   "execution_count": null,
   "metadata": {
    "colab": {
     "base_uri": "https://localhost:8080/",
     "height": 34
    },
    "colab_type": "code",
    "id": "qeTQId04mEuG",
    "outputId": "644d4844-693c-4383-b7a0-d6d4a3affca8"
   },
   "outputs": [],
   "source": [
    "response = requests.get(\"https://www.alphavantage.co/query?function=TIME_SERIES_DAILY&symbol=MSFT&apikey=demo\")\n",
    "alphadict = json.loads(response.text)\n",
    "alphadict.keys()"
   ]
  },
  {
   "cell_type": "code",
   "execution_count": null,
   "metadata": {
    "colab": {
     "base_uri": "https://localhost:8080/",
     "height": 187
    },
    "colab_type": "code",
    "id": "b3gDWcE2nATl",
    "outputId": "376af2b3-004c-4994-c017-5b785e8df475"
   },
   "outputs": [],
   "source": [
    "stock = pd.DataFrame(alphadict['Time Series (Daily)']).T\n",
    "stock.info()"
   ]
  },
  {
   "cell_type": "code",
   "execution_count": null,
   "metadata": {
    "colab": {
     "base_uri": "https://localhost:8080/",
     "height": 34
    },
    "colab_type": "code",
    "id": "_B7T3SZy2803",
    "outputId": "1c128d13-a0c1-424d-d874-43616799ce8c"
   },
   "outputs": [],
   "source": [
    "type(stock.index)"
   ]
  },
  {
   "cell_type": "code",
   "execution_count": null,
   "metadata": {
    "colab": {
     "base_uri": "https://localhost:8080/",
     "height": 34
    },
    "colab_type": "code",
    "id": "8_HWwiQCnl0H",
    "outputId": "082de1b6-27de-4158-fe2b-2a6ccda146c5"
   },
   "outputs": [],
   "source": [
    "stock.index = pd.to_datetime(stock.index)\n",
    "type(stock.index)"
   ]
  },
  {
   "cell_type": "code",
   "execution_count": null,
   "metadata": {
    "colab": {
     "base_uri": "https://localhost:8080/",
     "height": 698
    },
    "colab_type": "code",
    "id": "OEBuy3a63R9O",
    "outputId": "371c99cb-1e56-4a5f-dd9d-81b4734e9343"
   },
   "outputs": [],
   "source": [
    "stock['close']"
   ]
  },
  {
   "cell_type": "code",
   "execution_count": null,
   "metadata": {
    "colab": {
     "base_uri": "https://localhost:8080/",
     "height": 34
    },
    "colab_type": "code",
    "id": "0wNgFsT0g7XE",
    "outputId": "dc79bcd7-8e9d-4e60-ca60-470cb2d4d0ca"
   },
   "outputs": [],
   "source": [
    "stock.columns"
   ]
  },
  {
   "cell_type": "code",
   "execution_count": null,
   "metadata": {
    "colab": {
     "base_uri": "https://localhost:8080/",
     "height": 34
    },
    "colab_type": "code",
    "id": "mTiZoEKy3qcl",
    "outputId": "e88faf94-cc9f-4cd3-af85-c8c8022cf152"
   },
   "outputs": [],
   "source": [
    "stock.columns = ['open', 'high', 'low', 'close', 'volume']\n",
    "stock.columns"
   ]
  },
  {
   "cell_type": "code",
   "execution_count": null,
   "metadata": {
    "colab": {
     "base_uri": "https://localhost:8080/",
     "height": 307
    },
    "colab_type": "code",
    "id": "gB6II8B-hebW",
    "outputId": "a53d34d4-a5f5-4370-910a-3c37a8204b5d"
   },
   "outputs": [],
   "source": [
    "stock['close'].plot(figsize=(20,5), title='Microsoft (MSFT) daily closing prices'), plt.show();"
   ]
  },
  {
   "cell_type": "code",
   "execution_count": null,
   "metadata": {
    "colab": {
     "base_uri": "https://localhost:8080/",
     "height": 34
    },
    "colab_type": "code",
    "id": "nNe2oUjmhuzA",
    "outputId": "990b80fa-0c6c-4386-c1d9-cd60154bfae1"
   },
   "outputs": [],
   "source": [
    "type(stock['close'][1])"
   ]
  },
  {
   "cell_type": "code",
   "execution_count": null,
   "metadata": {
    "colab": {
     "base_uri": "https://localhost:8080/",
     "height": 34
    },
    "colab_type": "code",
    "id": "gbn6CByi5D08",
    "outputId": "3fd879c2-2fe2-4be1-98db-5fc72b4ad9a7"
   },
   "outputs": [],
   "source": [
    "stock = stock.astype(float)\n",
    "type(stock['close'][1])"
   ]
  },
  {
   "cell_type": "markdown",
   "metadata": {
    "colab_type": "text",
    "id": "hOO3guKxvQNk"
   },
   "source": [
    "# SAMPLE DATA"
   ]
  },
  {
   "cell_type": "code",
   "execution_count": null,
   "metadata": {
    "colab": {
     "base_uri": "https://localhost:8080/",
     "height": 359
    },
    "colab_type": "code",
    "id": "0s1McVHNyBXV",
    "outputId": "774d6063-bba9-4dce-a7a5-e155d6e54000"
   },
   "outputs": [],
   "source": [
    "sample = stock.sample(10)\n",
    "sample"
   ]
  },
  {
   "cell_type": "markdown",
   "metadata": {
    "colab_type": "text",
    "id": "cb96ylwxvPer"
   },
   "source": [
    "# SUMMARIZE DATA"
   ]
  },
  {
   "cell_type": "code",
   "execution_count": null,
   "metadata": {
    "colab": {
     "base_uri": "https://localhost:8080/",
     "height": 297
    },
    "colab_type": "code",
    "id": "FmtI5QqyyAOZ",
    "outputId": "d913ff15-77fa-44b4-f465-39ddba21d864"
   },
   "outputs": [],
   "source": [
    "summary = stock.describe()\n",
    "summary"
   ]
  },
  {
   "cell_type": "markdown",
   "metadata": {
    "colab_type": "text",
    "id": "iqZ_NfAcwSFq"
   },
   "source": [
    "# VISUALIZE DATA"
   ]
  },
  {
   "cell_type": "code",
   "execution_count": null,
   "metadata": {
    "colab": {
     "base_uri": "https://localhost:8080/",
     "height": 332
    },
    "colab_type": "code",
    "id": "MfdfArgfpZUC",
    "outputId": "1567298f-758d-44b8-cdae-b66b904e4eef"
   },
   "outputs": [],
   "source": [
    "stock['close'].plot(figsize=(20,5), title='Microsoft (MSFT) daily closing prices'), plt.show();"
   ]
  },
  {
   "cell_type": "markdown",
   "metadata": {
    "colab_type": "text",
    "id": "WkkmYbnaXHBf"
   },
   "source": [
    "# EXPLORING SIGNALS"
   ]
  },
  {
   "cell_type": "code",
   "execution_count": null,
   "metadata": {
    "colab": {
     "base_uri": "https://localhost:8080/",
     "height": 332
    },
    "colab_type": "code",
    "id": "Gee-ONMtXL4o",
    "outputId": "f448d95a-c02f-48b9-ec65-5d52d28cb746"
   },
   "outputs": [],
   "source": [
    "stock['SMA10'] = stock['close'].rolling(10).mean()\n",
    "stock['SMA20'] = stock['close'].rolling(20).mean()\n",
    "stock[['close','SMA10', 'SMA20']].plot(figsize=(20,5), grid = True, title='The 10 and 20 day simple moving averages of Microsoft'), plt.show();"
   ]
  },
  {
   "cell_type": "markdown",
   "metadata": {
    "colab_type": "text",
    "id": "YG_6PMwawahu"
   },
   "source": [
    "# **SOME MORE ISSUES WITH IMPORTING DATA**"
   ]
  },
  {
   "cell_type": "code",
   "execution_count": null,
   "metadata": {
    "colab": {
     "base_uri": "https://localhost:8080/",
     "height": 204
    },
    "colab_type": "code",
    "id": "btcEAoYq-qGq",
    "outputId": "6a44c7ed-586f-41a6-89ae-42c6ea0e1978"
   },
   "outputs": [],
   "source": [
    "stock.head()"
   ]
  },
  {
   "cell_type": "code",
   "execution_count": null,
   "metadata": {
    "colab": {
     "base_uri": "https://localhost:8080/",
     "height": 204
    },
    "colab_type": "code",
    "id": "E_bfiMf7ik2-",
    "outputId": "80d54a33-9e07-4df5-8127-8622c3e2860d"
   },
   "outputs": [],
   "source": [
    "stock = stock.sort_index(ascending = True)\n",
    "stock.head()"
   ]
  },
  {
   "cell_type": "code",
   "execution_count": null,
   "metadata": {
    "colab": {
     "base_uri": "https://localhost:8080/",
     "height": 332
    },
    "colab_type": "code",
    "id": "uVBwQWCsBMAR",
    "outputId": "61db8659-82b4-4650-d083-1ef26853e929"
   },
   "outputs": [],
   "source": [
    "stock['SMA10'] = stock['close'].rolling(10).mean()\n",
    "stock['SMA20'] = stock['close'].rolling(20).mean()\n",
    "stock[['close','SMA10', 'SMA20']].plot(figsize=(20,5), grid = True, title='The 10 and 20 day simple moving averages of Microsoft'), plt.show();"
   ]
  },
  {
   "cell_type": "code",
   "execution_count": null,
   "metadata": {
    "colab": {
     "base_uri": "https://localhost:8080/",
     "height": 204
    },
    "colab_type": "code",
    "id": "De6Y14QiBTOe",
    "outputId": "e6418000-f1e9-4ed3-dc88-5e23b2cc7610"
   },
   "outputs": [],
   "source": [
    "stock.head()"
   ]
  },
  {
   "cell_type": "code",
   "execution_count": null,
   "metadata": {
    "colab": {
     "base_uri": "https://localhost:8080/",
     "height": 434
    },
    "colab_type": "code",
    "id": "IjTXCjUYZU9l",
    "outputId": "92d74a77-ab57-4c65-cff5-532f97592358"
   },
   "outputs": [],
   "source": [
    "stock.dropna(inplace=True)\n",
    "print(stock.head())\n",
    "stock[['close','SMA10', 'SMA20']].plot(figsize=(20,5), grid = True, title='The 10 and 20 day simple moving averages of Microsoft'), plt.show();"
   ]
  },
  {
   "cell_type": "markdown",
   "metadata": {
    "colab_type": "text",
    "id": "XGhrx5XcGvyP"
   },
   "source": [
    "#EVALUATING SIGNALS"
   ]
  },
  {
   "cell_type": "code",
   "execution_count": null,
   "metadata": {
    "colab": {
     "base_uri": "https://localhost:8080/",
     "height": 204
    },
    "colab_type": "code",
    "id": "UWuaIbZdvnJh",
    "outputId": "e0da9a2a-4546-45ed-c859-5d048c53b373"
   },
   "outputs": [],
   "source": [
    "signal = pd.DataFrame()\n",
    "signal['crossover']= stock['SMA10'] - stock['SMA20']\n",
    "signal.tail()"
   ]
  },
  {
   "cell_type": "code",
   "execution_count": null,
   "metadata": {
    "colab": {
     "base_uri": "https://localhost:8080/",
     "height": 204
    },
    "colab_type": "code",
    "id": "Q1t5Xw3Cyjyl",
    "outputId": "36f0a64c-2f08-42cd-849e-2e11b8ccf985"
   },
   "outputs": [],
   "source": [
    "stock = stock.join(signal, how='left')\n",
    "stock.tail()"
   ]
  },
  {
   "cell_type": "code",
   "execution_count": null,
   "metadata": {
    "colab": {
     "base_uri": "https://localhost:8080/",
     "height": 204
    },
    "colab_type": "code",
    "id": "B4exIOeywPCo",
    "outputId": "1d95a2dd-27a3-45cf-e5a2-66d59b2e82d2"
   },
   "outputs": [],
   "source": [
    "signal['close-close'] = stock['close'].diff()\n",
    "signal.head()"
   ]
  },
  {
   "cell_type": "code",
   "execution_count": null,
   "metadata": {
    "colab": {
     "base_uri": "https://localhost:8080/",
     "height": 119
    },
    "colab_type": "code",
    "id": "Dm5IzxQ9B3gD",
    "outputId": "7662f3aa-a22a-4b52-a9e1-0ff5efc66ca2"
   },
   "outputs": [],
   "source": [
    "signal.dropna(inplace=True)\n",
    "quality = (signal['crossover'] > 0) & (signal['close-close'] > 0) | (signal['crossover'] < 0) & (signal['close-close'] < 0)\n",
    "quality.head()"
   ]
  },
  {
   "cell_type": "code",
   "execution_count": null,
   "metadata": {
    "colab": {
     "base_uri": "https://localhost:8080/",
     "height": 119
    },
    "colab_type": "code",
    "id": "xcmPSYFsC9kG",
    "outputId": "2998fd0f-8c59-4db6-dbcb-90801bcfd8d4"
   },
   "outputs": [],
   "source": [
    "quality = quality.astype(int)\n",
    "quality.head()"
   ]
  },
  {
   "cell_type": "code",
   "execution_count": null,
   "metadata": {
    "colab": {
     "base_uri": "https://localhost:8080/",
     "height": 34
    },
    "colab_type": "code",
    "id": "6GrnkHXzDHxt",
    "outputId": "2804f822-de4c-4a94-ab50-fce8067448d4"
   },
   "outputs": [],
   "source": [
    "proportion_correct = quality.sum()/quality.count()\n",
    "proportion_correct"
   ]
  },
  {
   "cell_type": "code",
   "execution_count": null,
   "metadata": {
    "colab": {
     "base_uri": "https://localhost:8080/",
     "height": 34
    },
    "colab_type": "code",
    "id": "qRn2eH0sF-cS",
    "outputId": "7b47fd52-8f6d-46ac-fcd3-95d011140bfb"
   },
   "outputs": [],
   "source": [
    "information_coefficient = 2*proportion_correct - 1\n",
    "information_coefficient"
   ]
  },
  {
   "cell_type": "code",
   "execution_count": null,
   "metadata": {
    "colab": {
     "base_uri": "https://localhost:8080/",
     "height": 111
    },
    "colab_type": "code",
    "id": "UcEsFR4PqjLI",
    "outputId": "10247ad6-07da-4590-bd54-d7ab2fff99ba"
   },
   "outputs": [],
   "source": [
    "signal.corr(method='spearman')"
   ]
  }
 ],
 "metadata": {
  "colab": {
   "name": "Algotrading_Processing Data.ipynb",
   "provenance": [],
   "version": "0.3.2"
  },
  "kernelspec": {
   "display_name": "Python 3",
   "language": "python",
   "name": "python3"
  },
  "language_info": {
   "codemirror_mode": {
    "name": "ipython",
    "version": 3
   },
   "file_extension": ".py",
   "mimetype": "text/x-python",
   "name": "python",
   "nbconvert_exporter": "python",
   "pygments_lexer": "ipython3",
   "version": "3.7.3"
  }
 },
 "nbformat": 4,
 "nbformat_minor": 1
}
